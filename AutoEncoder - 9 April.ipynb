{
 "cells": [
  {
   "attachments": {},
   "cell_type": "markdown",
   "metadata": {},
   "source": [
    "### AutoEncoders"
   ]
  },
  {
   "cell_type": "code",
   "execution_count": 6,
   "metadata": {},
   "outputs": [],
   "source": [
    "from tensorflow.keras.datasets.mnist import load_data\n",
    "from tensorflow.keras.models import Sequential\n",
    "from tensorflow.keras.layers import Input, Dense\n",
    "import matplotlib.pyplot as plt \n",
    "%matplotlib inline"
   ]
  },
  {
   "cell_type": "code",
   "execution_count": 87,
   "metadata": {},
   "outputs": [],
   "source": [
    "(x_train,_), (x_test, _) = load_data()"
   ]
  },
  {
   "cell_type": "code",
   "execution_count": 88,
   "metadata": {},
   "outputs": [
    {
     "name": "stdout",
     "output_type": "stream",
     "text": [
      "(60000, 28, 28)\n",
      "(10000, 28, 28)\n"
     ]
    }
   ],
   "source": [
    "print(x_train.shape)\n",
    "print(x_test.shape)"
   ]
  },
  {
   "cell_type": "code",
   "execution_count": 89,
   "metadata": {},
   "outputs": [],
   "source": [
    "x_train = x_train.reshape(-1,784)\n",
    "x_test = x_test.reshape(-1,784)"
   ]
  },
  {
   "cell_type": "code",
   "execution_count": 90,
   "metadata": {},
   "outputs": [],
   "source": [
    "x_train = x_train/255\n",
    "x_test = x_test/255"
   ]
  },
  {
   "cell_type": "code",
   "execution_count": 8,
   "metadata": {},
   "outputs": [
    {
     "name": "stdout",
     "output_type": "stream",
     "text": [
      "(60000, 784)\n",
      "(10000, 784)\n"
     ]
    }
   ],
   "source": [
    "print(x_train.shape)\n",
    "print(x_test.shape)"
   ]
  },
  {
   "attachments": {},
   "cell_type": "markdown",
   "metadata": {},
   "source": [
    "### Autoencoder"
   ]
  },
  {
   "cell_type": "code",
   "execution_count": 105,
   "metadata": {},
   "outputs": [],
   "source": [
    "from tensorflow.keras.optimizers import Adam"
   ]
  },
  {
   "cell_type": "code",
   "execution_count": 106,
   "metadata": {},
   "outputs": [],
   "source": [
    "model = Sequential()\n",
    "model.add(Input(shape=(784,)))\n",
    "model.add(Dense(128, activation=\"relu\"))\n",
    "model.add(Dense(64, activation=\"relu\"))\n",
    "model.add(Dense(128, activation=\"relu\"))\n",
    "model.add(Dense(784))"
   ]
  },
  {
   "cell_type": "code",
   "execution_count": 107,
   "metadata": {},
   "outputs": [],
   "source": [
    "model.compile(optimizer= \"adam\", loss=\"mean_squared_error\")"
   ]
  },
  {
   "cell_type": "code",
   "execution_count": 108,
   "metadata": {},
   "outputs": [
    {
     "name": "stdout",
     "output_type": "stream",
     "text": [
      "Epoch 1/30\n",
      "60/60 [==============================] - 2s 31ms/step - loss: 0.0674 - val_loss: 0.0483\n",
      "Epoch 2/30\n",
      "60/60 [==============================] - 1s 24ms/step - loss: 0.0379 - val_loss: 0.0305\n",
      "Epoch 3/30\n",
      "60/60 [==============================] - 1s 23ms/step - loss: 0.0273 - val_loss: 0.0240\n",
      "Epoch 4/30\n",
      "60/60 [==============================] - 1s 21ms/step - loss: 0.0227 - val_loss: 0.0208\n",
      "Epoch 5/30\n",
      "60/60 [==============================] - 1s 22ms/step - loss: 0.0203 - val_loss: 0.0190\n",
      "Epoch 6/30\n",
      "60/60 [==============================] - 1s 24ms/step - loss: 0.0188 - val_loss: 0.0179\n",
      "Epoch 7/30\n",
      "60/60 [==============================] - 1s 25ms/step - loss: 0.0177 - val_loss: 0.0168\n",
      "Epoch 8/30\n",
      "60/60 [==============================] - 1s 22ms/step - loss: 0.0169 - val_loss: 0.0162\n",
      "Epoch 9/30\n",
      "60/60 [==============================] - 1s 21ms/step - loss: 0.0163 - val_loss: 0.0157\n",
      "Epoch 10/30\n",
      "60/60 [==============================] - 1s 21ms/step - loss: 0.0159 - val_loss: 0.0154\n",
      "Epoch 11/30\n",
      "60/60 [==============================] - 1s 21ms/step - loss: 0.0156 - val_loss: 0.0150\n",
      "Epoch 12/30\n",
      "60/60 [==============================] - 1s 22ms/step - loss: 0.0152 - val_loss: 0.0147\n",
      "Epoch 13/30\n",
      "60/60 [==============================] - 1s 23ms/step - loss: 0.0150 - val_loss: 0.0145\n",
      "Epoch 14/30\n",
      "60/60 [==============================] - 1s 21ms/step - loss: 0.0148 - val_loss: 0.0144\n",
      "Epoch 15/30\n",
      "60/60 [==============================] - 1s 22ms/step - loss: 0.0146 - val_loss: 0.0144\n",
      "Epoch 16/30\n",
      "60/60 [==============================] - 1s 24ms/step - loss: 0.0145 - val_loss: 0.0141\n",
      "Epoch 17/30\n",
      "60/60 [==============================] - 1s 19ms/step - loss: 0.0144 - val_loss: 0.0139\n",
      "Epoch 18/30\n",
      "60/60 [==============================] - 1s 23ms/step - loss: 0.0142 - val_loss: 0.0139\n",
      "Epoch 19/30\n",
      "60/60 [==============================] - 1s 22ms/step - loss: 0.0142 - val_loss: 0.0138\n",
      "Epoch 20/30\n",
      "60/60 [==============================] - 1s 21ms/step - loss: 0.0141 - val_loss: 0.0137\n",
      "Epoch 21/30\n",
      "60/60 [==============================] - 1s 20ms/step - loss: 0.0140 - val_loss: 0.0137\n",
      "Epoch 22/30\n",
      "60/60 [==============================] - 1s 21ms/step - loss: 0.0140 - val_loss: 0.0136\n",
      "Epoch 23/30\n",
      "60/60 [==============================] - 1s 20ms/step - loss: 0.0139 - val_loss: 0.0136\n",
      "Epoch 24/30\n",
      "60/60 [==============================] - 1s 21ms/step - loss: 0.0139 - val_loss: 0.0135\n",
      "Epoch 25/30\n",
      "60/60 [==============================] - 1s 20ms/step - loss: 0.0138 - val_loss: 0.0134\n",
      "Epoch 26/30\n",
      "60/60 [==============================] - 1s 20ms/step - loss: 0.0137 - val_loss: 0.0134\n",
      "Epoch 27/30\n",
      "60/60 [==============================] - 1s 21ms/step - loss: 0.0136 - val_loss: 0.0133\n",
      "Epoch 28/30\n",
      "60/60 [==============================] - 1s 21ms/step - loss: 0.0136 - val_loss: 0.0132\n",
      "Epoch 29/30\n",
      "60/60 [==============================] - 1s 21ms/step - loss: 0.0135 - val_loss: 0.0131\n",
      "Epoch 30/30\n",
      "60/60 [==============================] - 1s 21ms/step - loss: 0.0133 - val_loss: 0.0129\n"
     ]
    },
    {
     "data": {
      "text/plain": [
       "<tensorflow.python.keras.callbacks.History at 0x25a18616310>"
      ]
     },
     "execution_count": 108,
     "metadata": {},
     "output_type": "execute_result"
    }
   ],
   "source": [
    "model.fit(x=x_train, y=x_train, epochs=30, batch_size=1000, validation_data=(x_test, x_test))"
   ]
  },
  {
   "cell_type": "code",
   "execution_count": 94,
   "metadata": {},
   "outputs": [
    {
     "name": "stdout",
     "output_type": "stream",
     "text": [
      "Model: \"sequential_15\"\n",
      "_________________________________________________________________\n",
      "Layer (type)                 Output Shape              Param #   \n",
      "=================================================================\n",
      "dense_22 (Dense)             (None, 128)               100480    \n",
      "_________________________________________________________________\n",
      "dense_23 (Dense)             (None, 32)                4128      \n",
      "_________________________________________________________________\n",
      "dense_24 (Dense)             (None, 128)               4224      \n",
      "_________________________________________________________________\n",
      "dense_25 (Dense)             (None, 784)               101136    \n",
      "=================================================================\n",
      "Total params: 209,968\n",
      "Trainable params: 209,968\n",
      "Non-trainable params: 0\n",
      "_________________________________________________________________\n"
     ]
    }
   ],
   "source": [
    "model.summary()"
   ]
  },
  {
   "cell_type": "code",
   "execution_count": 56,
   "metadata": {},
   "outputs": [
    {
     "data": {
      "text/plain": [
       "[<tensorflow.python.keras.layers.core.Dense at 0x25a4ad49fa0>,\n",
       " <tensorflow.python.keras.layers.core.Dense at 0x25a4af0e1f0>,\n",
       " <tensorflow.python.keras.layers.core.Dense at 0x25a4aef7070>,\n",
       " <tensorflow.python.keras.layers.core.Dense at 0x25a4af17c40>]"
      ]
     },
     "execution_count": 56,
     "metadata": {},
     "output_type": "execute_result"
    }
   ],
   "source": [
    "model.layers"
   ]
  },
  {
   "attachments": {},
   "cell_type": "markdown",
   "metadata": {},
   "source": [
    "### Encoder"
   ]
  },
  {
   "cell_type": "code",
   "execution_count": 57,
   "metadata": {},
   "outputs": [
    {
     "data": {
      "text/plain": [
       "[<tensorflow.python.keras.layers.core.Dense at 0x25a4ad49fa0>,\n",
       " <tensorflow.python.keras.layers.core.Dense at 0x25a4af0e1f0>]"
      ]
     },
     "execution_count": 57,
     "metadata": {},
     "output_type": "execute_result"
    }
   ],
   "source": [
    "model.layers[:-2]"
   ]
  },
  {
   "cell_type": "code",
   "execution_count": 109,
   "metadata": {},
   "outputs": [],
   "source": [
    "encoder = Sequential()\n",
    "for layer in model.layers[:-2]:\n",
    "    encoder.add(layer)"
   ]
  },
  {
   "cell_type": "code",
   "execution_count": 110,
   "metadata": {},
   "outputs": [],
   "source": [
    "encoder.build(input_shape=(None,784))"
   ]
  },
  {
   "cell_type": "code",
   "execution_count": 111,
   "metadata": {},
   "outputs": [
    {
     "name": "stdout",
     "output_type": "stream",
     "text": [
      "Model: \"sequential_19\"\n",
      "_________________________________________________________________\n",
      "Layer (type)                 Output Shape              Param #   \n",
      "=================================================================\n",
      "dense_26 (Dense)             (None, 128)               100480    \n",
      "_________________________________________________________________\n",
      "dense_27 (Dense)             (None, 64)                8256      \n",
      "=================================================================\n",
      "Total params: 108,736\n",
      "Trainable params: 108,736\n",
      "Non-trainable params: 0\n",
      "_________________________________________________________________\n"
     ]
    }
   ],
   "source": [
    "encoder.summary()"
   ]
  },
  {
   "attachments": {},
   "cell_type": "markdown",
   "metadata": {},
   "source": [
    "### Decoder"
   ]
  },
  {
   "cell_type": "code",
   "execution_count": 113,
   "metadata": {},
   "outputs": [
    {
     "name": "stdout",
     "output_type": "stream",
     "text": [
      "Model: \"sequential_21\"\n",
      "_________________________________________________________________\n",
      "Layer (type)                 Output Shape              Param #   \n",
      "=================================================================\n",
      "dense_28 (Dense)             (None, 128)               8320      \n",
      "_________________________________________________________________\n",
      "dense_29 (Dense)             (None, 784)               101136    \n",
      "=================================================================\n",
      "Total params: 109,456\n",
      "Trainable params: 109,456\n",
      "Non-trainable params: 0\n",
      "_________________________________________________________________\n"
     ]
    }
   ],
   "source": [
    "decoder = Sequential()\n",
    "for layer in model.layers[-2:]:\n",
    "    decoder.add(layer)\n",
    "decoder.build(input_shape = (None, 64))\n",
    "decoder.summary()"
   ]
  },
  {
   "attachments": {},
   "cell_type": "markdown",
   "metadata": {},
   "source": [
    "### Encoder and Decoder in action"
   ]
  },
  {
   "cell_type": "code",
   "execution_count": 114,
   "metadata": {},
   "outputs": [
    {
     "data": {
      "image/png": "[encoded data removed]",
      "text/plain": [
       "<Figure size 432x288 with 1 Axes>"
      ]
     },
     "metadata": {
      "needs_background": "light"
     },
     "output_type": "display_data"
    }
   ],
   "source": [
    "plt.imshow(x_test[100].reshape(28,28), cmap=\"gray\")\n",
    "plt.show()"
   ]
  },
  {
   "cell_type": "code",
   "execution_count": 115,
   "metadata": {},
   "outputs": [],
   "source": [
    "preds = encoder.predict(x_test)"
   ]
  },
  {
   "cell_type": "code",
   "execution_count": 116,
   "metadata": {},
   "outputs": [
    {
     "data": {
      "text/plain": [
       "(10000, 64)"
      ]
     },
     "execution_count": 116,
     "metadata": {},
     "output_type": "execute_result"
    }
   ],
   "source": [
    "preds.shape"
   ]
  },
  {
   "cell_type": "code",
   "execution_count": 117,
   "metadata": {},
   "outputs": [
    {
     "data": {
      "text/plain": [
       "array([1.4870317 , 0.        , 1.0135392 , 0.        , 0.        ,\n",
       "       1.1661575 , 1.098959  , 1.236976  , 1.8782929 , 0.        ,\n",
       "       0.6549958 , 0.        , 0.        , 1.7659057 , 0.        ,\n",
       "       1.3555905 , 0.        , 0.        , 0.5921495 , 0.8453766 ,\n",
       "       1.046251  , 1.082632  , 1.153393  , 1.5570191 , 1.3903147 ,\n",
       "       2.1551006 , 1.4294298 , 0.42946133, 2.1037004 , 1.3224694 ,\n",
       "       1.8571554 , 1.6882789 , 1.6156126 , 1.4370033 , 1.7418653 ,\n",
       "       1.0916799 , 0.        , 1.087425  , 1.7925395 , 0.        ,\n",
       "       0.        , 1.7290621 , 0.85894275, 1.1919992 , 0.        ,\n",
       "       0.        , 1.3197969 , 1.647458  , 0.        , 0.76987755,\n",
       "       0.69731754, 2.0740266 , 0.        , 0.        , 0.9117539 ,\n",
       "       0.76509935, 0.        , 0.        , 1.0048791 , 1.1872649 ,\n",
       "       0.        , 0.64336014, 1.1701874 , 2.0716815 ], dtype=float32)"
      ]
     },
     "execution_count": 117,
     "metadata": {},
     "output_type": "execute_result"
    }
   ],
   "source": [
    "preds[100]"
   ]
  },
  {
   "cell_type": "code",
   "execution_count": 118,
   "metadata": {},
   "outputs": [],
   "source": [
    "reconstructed_ouput = decoder.predict(preds)"
   ]
  },
  {
   "cell_type": "code",
   "execution_count": 119,
   "metadata": {},
   "outputs": [
    {
     "data": {
      "text/plain": [
       "(784,)"
      ]
     },
     "execution_count": 119,
     "metadata": {},
     "output_type": "execute_result"
    }
   ],
   "source": [
    "reconstructed_ouput[100].shape"
   ]
  },
  {
   "cell_type": "code",
   "execution_count": 123,
   "metadata": {},
   "outputs": [],
   "source": [
    "reconstructed_ouput = reconstructed_ouput *255 "
   ]
  },
  {
   "cell_type": "code",
   "execution_count": 125,
   "metadata": {},
   "outputs": [
    {
     "data": {
      "image/png": "[encoded data removed]",
      "text/plain": [
       "<Figure size 432x288 with 1 Axes>"
      ]
     },
     "metadata": {
      "needs_background": "light"
     },
     "output_type": "display_data"
    }
   ],
   "source": [
    "plt.imshow(reconstructed_ouput[100].reshape(28,28), cmap=\"gray\")\n",
    "plt.show()"
   ]
  },
  {
   "cell_type": "code",
   "execution_count": null,
   "metadata": {},
   "outputs": [],
   "source": []
  }
 ],
 "metadata": {
  "kernelspec": {
   "display_name": "base",
   "language": "python",
   "name": "python3"
  },
  "language_info": {
   "codemirror_mode": {
    "name": "ipython",
    "version": 3
   },
   "file_extension": ".py",
   "mimetype": "text/x-python",
   "name": "python",
   "nbconvert_exporter": "python",
   "pygments_lexer": "ipython3",
   "version": "3.8.8"
  },
  "orig_nbformat": 4
 },
 "nbformat": 4,
 "nbformat_minor": 2
}
