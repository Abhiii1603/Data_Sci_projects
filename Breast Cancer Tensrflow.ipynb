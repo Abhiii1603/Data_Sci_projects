{
 "cells": [
  {
   "attachments": {},
   "cell_type": "markdown",
   "metadata": {},
   "source": [
    "* A. Start off by loading the ‘breast_cancer’ dataset from ‘sklearn’\n",
    "* a. Print the number of samples and number of features in the data \n",
    "* b. Divide the data into train & test sets with with test set size to be equal to 0.33 \n",
    "* c. Create the network: \n",
    "* i. Start with the input layer \n",
    "* ii. Add two hidden layers, where each layer has 32 nodes \n",
    "* iii. The final layer’s activation should be ‘softmax’\n",
    "* iv. Fit the model on the train set \n",
    "* v. Evaluate the accuracy for train and test set "
   ]
  },
  {
   "cell_type": "code",
   "execution_count": 108,
   "metadata": {},
   "outputs": [],
   "source": [
    "import numpy as np\n",
    "import pandas as pd\n",
    "from tensorflow.keras.models import Sequential\n",
    "from tensorflow.keras.layers import Dense\n",
    "from tensorflow.keras.optimizers import SGD, Adam\n",
    "from sklearn.model_selection import train_test_split\n",
    "from sklearn.metrics import accuracy_score, classification_report\n",
    "from sklearn.datasets import load_breast_cancer"
   ]
  },
  {
   "cell_type": "code",
   "execution_count": 109,
   "metadata": {},
   "outputs": [],
   "source": [
    "data = load_breast_cancer()"
   ]
  },
  {
   "cell_type": "code",
   "execution_count": 110,
   "metadata": {},
   "outputs": [
    {
     "name": "stdout",
     "output_type": "stream",
     "text": [
      "Number of samples: 569\n",
      "Number of features: 30\n"
     ]
    }
   ],
   "source": [
    "data = load_breast_cancer()\n",
    "X = data.data\n",
    "y = data.target\n",
    "\n",
    "# Print the number of samples and number of features in the data\n",
    "print(\"Number of samples:\", X.shape[0])\n",
    "print(\"Number of features:\", X.shape[1])"
   ]
  },
  {
   "cell_type": "code",
   "execution_count": 111,
   "metadata": {},
   "outputs": [],
   "source": [
    "from tensorflow.keras.utils import to_categorical\n",
    "y= to_categorical(y)"
   ]
  },
  {
   "cell_type": "code",
   "execution_count": 112,
   "metadata": {},
   "outputs": [],
   "source": [
    "X_train, X_test, y_train, y_test = train_test_split(X, y , test_size=0.33, random_state=12)"
   ]
  },
  {
   "attachments": {},
   "cell_type": "markdown",
   "metadata": {},
   "source": [
    "### Creating model"
   ]
  },
  {
   "cell_type": "code",
   "execution_count": 113,
   "metadata": {},
   "outputs": [],
   "source": [
    "model = Sequential()"
   ]
  },
  {
   "cell_type": "code",
   "execution_count": 114,
   "metadata": {},
   "outputs": [],
   "source": [
    "model.add(Dense(32, activation = \"relu\", input_shape = (X.shape[1],)))\n",
    "model.add(Dense(32, activation = \"relu\"))\n",
    "model.add(Dense(2, activation='softmax'))\n"
   ]
  },
  {
   "cell_type": "code",
   "execution_count": 115,
   "metadata": {},
   "outputs": [],
   "source": [
    "adam = Adam(learning_rate=0.01)\n",
    "model.compile(optimizer= adam, loss = \"categorical_crossentropy\", metrics=[\"accuracy\"])\n",
    "\n"
   ]
  },
  {
   "cell_type": "code",
   "execution_count": 116,
   "metadata": {},
   "outputs": [
    {
     "name": "stdout",
     "output_type": "stream",
     "text": [
      "Epoch 1/50\n",
      "77/77 [==============================] - 1s 2ms/step - loss: 9.8548 - accuracy: 0.7218\n",
      "Epoch 2/50\n",
      "77/77 [==============================] - 0s 3ms/step - loss: 1.4918 - accuracy: 0.8740\n",
      "Epoch 3/50\n",
      "77/77 [==============================] - 0s 3ms/step - loss: 1.8481 - accuracy: 0.8740\n",
      "Epoch 4/50\n",
      "77/77 [==============================] - 0s 3ms/step - loss: 1.3752 - accuracy: 0.8740\n",
      "Epoch 5/50\n",
      "77/77 [==============================] - 0s 3ms/step - loss: 0.6449 - accuracy: 0.8924\n",
      "Epoch 6/50\n",
      "77/77 [==============================] - 0s 3ms/step - loss: 1.2169 - accuracy: 0.8451\n",
      "Epoch 7/50\n",
      "77/77 [==============================] - 0s 3ms/step - loss: 1.0451 - accuracy: 0.8661\n",
      "Epoch 8/50\n",
      "77/77 [==============================] - 0s 3ms/step - loss: 0.2618 - accuracy: 0.9186\n",
      "Epoch 9/50\n",
      "77/77 [==============================] - 0s 3ms/step - loss: 0.5401 - accuracy: 0.8609\n",
      "Epoch 10/50\n",
      "77/77 [==============================] - 0s 4ms/step - loss: 0.2899 - accuracy: 0.9003\n",
      "Epoch 11/50\n",
      "77/77 [==============================] - 0s 6ms/step - loss: 0.2449 - accuracy: 0.9186\n",
      "Epoch 12/50\n",
      "77/77 [==============================] - 0s 4ms/step - loss: 0.2142 - accuracy: 0.9291\n",
      "Epoch 13/50\n",
      "77/77 [==============================] - 0s 2ms/step - loss: 0.2048 - accuracy: 0.9239\n",
      "Epoch 14/50\n",
      "77/77 [==============================] - 0s 3ms/step - loss: 0.2614 - accuracy: 0.9239\n",
      "Epoch 15/50\n",
      "77/77 [==============================] - 0s 3ms/step - loss: 0.2075 - accuracy: 0.9186\n",
      "Epoch 16/50\n",
      "77/77 [==============================] - 0s 3ms/step - loss: 0.2050 - accuracy: 0.9318\n",
      "Epoch 17/50\n",
      "77/77 [==============================] - 0s 3ms/step - loss: 0.2577 - accuracy: 0.8976\n",
      "Epoch 18/50\n",
      "77/77 [==============================] - 0s 4ms/step - loss: 0.1943 - accuracy: 0.9318\n",
      "Epoch 19/50\n",
      "77/77 [==============================] - 0s 2ms/step - loss: 0.2018 - accuracy: 0.9370\n",
      "Epoch 20/50\n",
      "77/77 [==============================] - 0s 2ms/step - loss: 0.2123 - accuracy: 0.9291\n",
      "Epoch 21/50\n",
      "77/77 [==============================] - 0s 2ms/step - loss: 0.2127 - accuracy: 0.9265\n",
      "Epoch 22/50\n",
      "77/77 [==============================] - 0s 4ms/step - loss: 0.1759 - accuracy: 0.9370\n",
      "Epoch 23/50\n",
      "77/77 [==============================] - 0s 3ms/step - loss: 0.1788 - accuracy: 0.9265\n",
      "Epoch 24/50\n",
      "77/77 [==============================] - 0s 2ms/step - loss: 0.1717 - accuracy: 0.9291\n",
      "Epoch 25/50\n",
      "77/77 [==============================] - 0s 2ms/step - loss: 0.2065 - accuracy: 0.9186\n",
      "Epoch 26/50\n",
      "77/77 [==============================] - 0s 3ms/step - loss: 0.1863 - accuracy: 0.9239\n",
      "Epoch 27/50\n",
      "77/77 [==============================] - 0s 3ms/step - loss: 0.2014 - accuracy: 0.9186\n",
      "Epoch 28/50\n",
      "77/77 [==============================] - 0s 3ms/step - loss: 0.2348 - accuracy: 0.9081\n",
      "Epoch 29/50\n",
      "77/77 [==============================] - 0s 5ms/step - loss: 0.1874 - accuracy: 0.9186\n",
      "Epoch 30/50\n",
      "77/77 [==============================] - 0s 5ms/step - loss: 0.1971 - accuracy: 0.9213\n",
      "Epoch 31/50\n",
      "77/77 [==============================] - 0s 4ms/step - loss: 0.2445 - accuracy: 0.9134\n",
      "Epoch 32/50\n",
      "77/77 [==============================] - 0s 5ms/step - loss: 0.1664 - accuracy: 0.9291\n",
      "Epoch 33/50\n",
      "77/77 [==============================] - 0s 3ms/step - loss: 0.1736 - accuracy: 0.9344\n",
      "Epoch 34/50\n",
      "77/77 [==============================] - 0s 3ms/step - loss: 0.1629 - accuracy: 0.9291\n",
      "Epoch 35/50\n",
      "77/77 [==============================] - 0s 3ms/step - loss: 0.1556 - accuracy: 0.9344\n",
      "Epoch 36/50\n",
      "77/77 [==============================] - 0s 3ms/step - loss: 0.1571 - accuracy: 0.9344\n",
      "Epoch 37/50\n",
      "77/77 [==============================] - 0s 3ms/step - loss: 0.1777 - accuracy: 0.9396\n",
      "Epoch 38/50\n",
      "77/77 [==============================] - 0s 3ms/step - loss: 0.1608 - accuracy: 0.9265\n",
      "Epoch 39/50\n",
      "77/77 [==============================] - 0s 3ms/step - loss: 0.2327 - accuracy: 0.9029\n",
      "Epoch 40/50\n",
      "77/77 [==============================] - 0s 3ms/step - loss: 0.2289 - accuracy: 0.9055\n",
      "Epoch 41/50\n",
      "77/77 [==============================] - 0s 3ms/step - loss: 0.1943 - accuracy: 0.9265\n",
      "Epoch 42/50\n",
      "77/77 [==============================] - 0s 3ms/step - loss: 0.1902 - accuracy: 0.9291\n",
      "Epoch 43/50\n",
      "77/77 [==============================] - 0s 3ms/step - loss: 0.1654 - accuracy: 0.9396\n",
      "Epoch 44/50\n",
      "77/77 [==============================] - 0s 3ms/step - loss: 0.1646 - accuracy: 0.9265\n",
      "Epoch 45/50\n",
      "77/77 [==============================] - 0s 3ms/step - loss: 0.2263 - accuracy: 0.9003\n",
      "Epoch 46/50\n",
      "77/77 [==============================] - 0s 3ms/step - loss: 0.2186 - accuracy: 0.9081\n",
      "Epoch 47/50\n",
      "77/77 [==============================] - 1s 7ms/step - loss: 0.1569 - accuracy: 0.9344\n",
      "Epoch 48/50\n",
      "77/77 [==============================] - 0s 3ms/step - loss: 0.1772 - accuracy: 0.9396\n",
      "Epoch 49/50\n",
      "77/77 [==============================] - 0s 3ms/step - loss: 0.1716 - accuracy: 0.9318\n",
      "Epoch 50/50\n",
      "77/77 [==============================] - 0s 3ms/step - loss: 0.1590 - accuracy: 0.9318\n"
     ]
    },
    {
     "data": {
      "text/plain": [
       "<keras.callbacks.History at 0x22cee876260>"
      ]
     },
     "execution_count": 116,
     "metadata": {},
     "output_type": "execute_result"
    }
   ],
   "source": [
    "model.fit(X_train, y_train, epochs= 50, batch_size=5)"
   ]
  },
  {
   "cell_type": "code",
   "execution_count": null,
   "metadata": {},
   "outputs": [],
   "source": []
  },
  {
   "cell_type": "code",
   "execution_count": 117,
   "metadata": {},
   "outputs": [
    {
     "name": "stdout",
     "output_type": "stream",
     "text": [
      "12/12 [==============================] - 0s 3ms/step - loss: 0.3719 - accuracy: 0.8530\n",
      "Train accuracy: 0.8530183434486389\n"
     ]
    }
   ],
   "source": [
    "train_loss, train_acc = model.evaluate(X_train, y_train)\n",
    "print(\"Train accuracy:\", train_acc)\n",
    "\n"
   ]
  },
  {
   "cell_type": "code",
   "execution_count": 118,
   "metadata": {},
   "outputs": [
    {
     "name": "stdout",
     "output_type": "stream",
     "text": [
      "6/6 [==============================] - 0s 3ms/step - loss: 0.3259 - accuracy: 0.8830\n"
     ]
    }
   ],
   "source": [
    "test_loss, test_acc = model.evaluate(X_test, y_test)"
   ]
  },
  {
   "cell_type": "code",
   "execution_count": 121,
   "metadata": {},
   "outputs": [
    {
     "name": "stdout",
     "output_type": "stream",
     "text": [
      "Test Accuracy: 0.8829787373542786\n"
     ]
    }
   ],
   "source": [
    "print(f\"Test Accuracy: {test_acc}\")"
   ]
  },
  {
   "cell_type": "code",
   "execution_count": null,
   "metadata": {},
   "outputs": [],
   "source": []
  }
 ],
 "metadata": {
  "kernelspec": {
   "display_name": "tensorflow_env",
   "language": "python",
   "name": "python3"
  },
  "language_info": {
   "codemirror_mode": {
    "name": "ipython",
    "version": 3
   },
   "file_extension": ".py",
   "mimetype": "text/x-python",
   "name": "python",
   "nbconvert_exporter": "python",
   "pygments_lexer": "ipython3",
   "version": "3.10.11"
  },
  "orig_nbformat": 4
 },
 "nbformat": 4,
 "nbformat_minor": 2
}
