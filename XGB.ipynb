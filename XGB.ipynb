{
 "cells": [
  {
   "cell_type": "code",
   "execution_count": 1,
   "id": "6c6c5e5c",
   "metadata": {},
   "outputs": [],
   "source": [
    "# Combines multiple weak model and make a strong model.\n"
   ]
  },
  {
   "cell_type": "markdown",
   "id": "e70b70fa",
   "metadata": {},
   "source": [
    "1. Initialize the model\n",
    "2. Fit the first weak model\n",
    "3. Calculate residual\n",
    "4. Fit subsequent weak model\n",
    "5. Correcting the error made by the previous model\n",
    "6. Update the ensemble\n",
    "7. Update the prediction\n",
    "8. Adjust the learning late\n",
    "9. Repeat 3 to 7\n",
    "10. Finalize the model\n",
    "\n",
    "XGBOOST\n",
    "1. Regularization\n",
    "2. Customizable loss function\n",
    "3. Tree Pruning\n",
    "4. HAndling Missing VAlue\n",
    "5. Parallel processing\n",
    "6. Feature Importamce\n",
    "7. Cross Validating\n"
   ]
  },
  {
   "cell_type": "code",
   "execution_count": 2,
   "id": "28feee9d",
   "metadata": {},
   "outputs": [
    {
     "ename": "ModuleNotFoundError",
     "evalue": "No module named 'warning'",
     "output_type": "error",
     "traceback": [
      "\u001b[1;31m---------------------------------------------------------------------------\u001b[0m",
      "\u001b[1;31mModuleNotFoundError\u001b[0m                       Traceback (most recent call last)",
      "Cell \u001b[1;32mIn[2], line 1\u001b[0m\n\u001b[1;32m----> 1\u001b[0m \u001b[38;5;28;01mimport\u001b[39;00m \u001b[38;5;21;01mwarning\u001b[39;00m\n\u001b[0;32m      2\u001b[0m warning\u001b[38;5;241m.\u001b[39msimplefilter(action \u001b[38;5;241m=\u001b[39m \u001b[38;5;124m\"\u001b[39m\u001b[38;5;124mignore\u001b[39m\u001b[38;5;124m\"\u001b[39m, category \u001b[38;5;241m=\u001b[39m \u001b[38;5;167;01mFutureWarning\u001b[39;00m)\n",
      "\u001b[1;31mModuleNotFoundError\u001b[0m: No module named 'warning'"
     ]
    }
   ],
   "source": [
    "import warning\n",
    "warning.simplefilter(action = \"ignore\", category = FutureWarning)"
   ]
  },
  {
   "cell_type": "code",
   "execution_count": 3,
   "id": "65bc6346",
   "metadata": {},
   "outputs": [
    {
     "name": "stderr",
     "output_type": "stream",
     "text": [
      "'pip' is not recognized as an internal or external command,\n",
      "operable program or batch file.\n"
     ]
    }
   ],
   "source": [
    "!pip install warning"
   ]
  },
  {
   "cell_type": "code",
   "execution_count": 4,
   "id": "4856d4bd",
   "metadata": {},
   "outputs": [
    {
     "name": "stderr",
     "output_type": "stream",
     "text": [
      "ERROR: Could not find a version that satisfies the requirement warning (from versions: none)\n",
      "ERROR: No matching distribution found for warning\n"
     ]
    }
   ],
   "source": [
    "!py -m pip install warning"
   ]
  },
  {
   "cell_type": "code",
   "execution_count": null,
   "id": "58551ca2",
   "metadata": {},
   "outputs": [],
   "source": []
  }
 ],
 "metadata": {
  "kernelspec": {
   "display_name": "Python 3 (ipykernel)",
   "language": "python",
   "name": "python3"
  },
  "language_info": {
   "codemirror_mode": {
    "name": "ipython",
    "version": 3
   },
   "file_extension": ".py",
   "mimetype": "text/x-python",
   "name": "python",
   "nbconvert_exporter": "python",
   "pygments_lexer": "ipython3",
   "version": "3.11.2"
  }
 },
 "nbformat": 4,
 "nbformat_minor": 5
}
