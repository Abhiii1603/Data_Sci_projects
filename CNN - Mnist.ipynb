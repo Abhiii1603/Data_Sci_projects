{
 "cells": [
  {
   "cell_type": "code",
   "execution_count": 54,
   "metadata": {},
   "outputs": [],
   "source": [
    "from tensorflow.keras.datasets.mnist import load_data\n",
    "from tensorflow.keras.utils import to_categorical\n",
    "import matplotlib.pyplot as plt"
   ]
  },
  {
   "cell_type": "code",
   "execution_count": 29,
   "metadata": {},
   "outputs": [],
   "source": [
    "(x_train, y_train), (x_test, y_test) = load_data()"
   ]
  },
  {
   "cell_type": "code",
   "execution_count": 30,
   "metadata": {},
   "outputs": [
    {
     "name": "stdout",
     "output_type": "stream",
     "text": [
      "(60000, 28, 28)\n",
      "(60000,)\n",
      "(10000, 28, 28)\n",
      "(10000,)\n"
     ]
    }
   ],
   "source": [
    "print(x_train.shape)\n",
    "print(y_train.shape)\n",
    "print(x_test.shape)\n",
    "print(y_test.shape)"
   ]
  },
  {
   "cell_type": "code",
   "execution_count": 31,
   "metadata": {},
   "outputs": [],
   "source": [
    "# Loading TF\n",
    "from tensorflow.keras.models import Sequential\n",
    "from tensorflow.keras.layers import Input, Dense, Conv2D, Flatten, MaxPooling2D\n",
    "from tensorflow.keras.layers import Activation"
   ]
  },
  {
   "cell_type": "code",
   "execution_count": 42,
   "metadata": {},
   "outputs": [],
   "source": [
    "model = Sequential() # Blank Model or Empty Model\n",
    "model.add(Conv2D(filters=3,kernel_size=(5,5), strides = (1,1), padding='same'))\n",
    "model.add(Activation(\"relu\"))# 28x28x3\n",
    "model.add(MaxPooling2D(pool_size=(2,2))) # 14x14x3\n",
    "model.add(Flatten()) # 588\n",
    "model.add(Dense(10,activation=\"softmax\"))\n"
   ]
  },
  {
   "cell_type": "code",
   "execution_count": 35,
   "metadata": {},
   "outputs": [],
   "source": [
    "y_train_ohe = to_categorical(y_train)\n",
    "y_test_ohe = to_categorical(y_test)"
   ]
  },
  {
   "cell_type": "code",
   "execution_count": 41,
   "metadata": {},
   "outputs": [],
   "source": [
    "'''(10000, 28, 28, 3) - Example\n",
    "10000 = # Images / Batch size\n",
    "28, 28 = Size of the each channel in the image (height x width)\n",
    "3 = # Channels\n",
    "'''\n",
    "x_train = x_train.reshape(60000, 28, 28, 1).astype(float)\n",
    "x_test = x_test.reshape(10000, 28, 28, 1).astype(float)"
   ]
  },
  {
   "cell_type": "code",
   "execution_count": 43,
   "metadata": {},
   "outputs": [],
   "source": [
    "# Model Compilation\n",
    "model.compile(optimizer = \"adam\",\n",
    "              loss = \"categorical_crossentropy\", \n",
    "              metrics = \"accuracy\")"
   ]
  },
  {
   "cell_type": "code",
   "execution_count": 44,
   "metadata": {},
   "outputs": [
    {
     "name": "stdout",
     "output_type": "stream",
     "text": [
      "Epoch 1/10\n",
      "24/24 [==============================] - 6s 260ms/step - loss: 59.7085 - accuracy: 0.1965 - val_loss: 22.0536 - val_accuracy: 0.3784\n",
      "Epoch 2/10\n",
      "24/24 [==============================] - 6s 249ms/step - loss: 14.1225 - accuracy: 0.5236 - val_loss: 8.1404 - val_accuracy: 0.6588\n",
      "Epoch 3/10\n",
      "24/24 [==============================] - 6s 253ms/step - loss: 6.9189 - accuracy: 0.7064 - val_loss: 5.0787 - val_accuracy: 0.7673\n",
      "Epoch 4/10\n",
      "24/24 [==============================] - 6s 252ms/step - loss: 4.8347 - accuracy: 0.7735 - val_loss: 3.8957 - val_accuracy: 0.8125\n",
      "Epoch 5/10\n",
      "24/24 [==============================] - 6s 256ms/step - loss: 3.8350 - accuracy: 0.8078 - val_loss: 3.2200 - val_accuracy: 0.8365\n",
      "Epoch 6/10\n",
      "24/24 [==============================] - 6s 254ms/step - loss: 3.2024 - accuracy: 0.8295 - val_loss: 2.7760 - val_accuracy: 0.8495\n",
      "Epoch 7/10\n",
      "24/24 [==============================] - 6s 259ms/step - loss: 2.7573 - accuracy: 0.8456 - val_loss: 2.4417 - val_accuracy: 0.8623\n",
      "Epoch 8/10\n",
      "24/24 [==============================] - 6s 266ms/step - loss: 2.4230 - accuracy: 0.8574 - val_loss: 2.1782 - val_accuracy: 0.8717\n",
      "Epoch 9/10\n",
      "24/24 [==============================] - 6s 258ms/step - loss: 2.1544 - accuracy: 0.8672 - val_loss: 1.9705 - val_accuracy: 0.8789\n",
      "Epoch 10/10\n",
      "24/24 [==============================] - 6s 255ms/step - loss: 1.9388 - accuracy: 0.8749 - val_loss: 1.7895 - val_accuracy: 0.8850\n"
     ]
    }
   ],
   "source": [
    "# Model Train\n",
    "history = model.fit(x=x_train, y=y_train_ohe, epochs = 10, \n",
    "                    batch_size= 2500, validation_data = (x_test,y_test_ohe))"
   ]
  },
  {
   "cell_type": "code",
   "execution_count": 39,
   "metadata": {},
   "outputs": [
    {
     "name": "stdout",
     "output_type": "stream",
     "text": [
      "Model: \"sequential_4\"\n",
      "_________________________________________________________________\n",
      "Layer (type)                 Output Shape              Param #   \n",
      "=================================================================\n",
      "conv2d_4 (Conv2D)            (2500, 28, 28, 3)         78        \n",
      "_________________________________________________________________\n",
      "activation_4 (Activation)    (2500, 28, 28, 3)         0         \n",
      "_________________________________________________________________\n",
      "max_pooling2d_4 (MaxPooling2 (2500, 14, 14, 3)         0         \n",
      "_________________________________________________________________\n",
      "flatten_4 (Flatten)          (2500, 588)               0         \n",
      "_________________________________________________________________\n",
      "dense_4 (Dense)              (2500, 10)                5890      \n",
      "=================================================================\n",
      "Total params: 5,968\n",
      "Trainable params: 5,968\n",
      "Non-trainable params: 0\n",
      "_________________________________________________________________\n"
     ]
    }
   ],
   "source": [
    "model.summary()"
   ]
  },
  {
   "attachments": {},
   "cell_type": "markdown",
   "metadata": {},
   "source": [
    "https://poloclub.github.io/cnn-explainer/"
   ]
  },
  {
   "attachments": {},
   "cell_type": "markdown",
   "metadata": {},
   "source": [
    "### Predictions"
   ]
  },
  {
   "cell_type": "code",
   "execution_count": 26,
   "metadata": {},
   "outputs": [],
   "source": [
    "import numpy as np"
   ]
  },
  {
   "cell_type": "code",
   "execution_count": 45,
   "metadata": {},
   "outputs": [],
   "source": [
    "preds = model.predict(x_test)"
   ]
  },
  {
   "cell_type": "code",
   "execution_count": 46,
   "metadata": {},
   "outputs": [
    {
     "data": {
      "text/plain": [
       "(10000, 10)"
      ]
     },
     "execution_count": 46,
     "metadata": {},
     "output_type": "execute_result"
    }
   ],
   "source": [
    "preds.shape"
   ]
  },
  {
   "cell_type": "code",
   "execution_count": 55,
   "metadata": {},
   "outputs": [
    {
     "data": {
      "image/png": "[encoded data removed]",
      "text/plain": [
       "<Figure size 640x480 with 1 Axes>"
      ]
     },
     "metadata": {},
     "output_type": "display_data"
    }
   ],
   "source": [
    "img_num = 100\n",
    "\n",
    "plt.imshow(x_test[img_num].reshape(28,28), cmap=\"gray\")\n",
    "plt.title(f'Prediction : {np.argmax(preds[img_num])}')\n",
    "plt.show()"
   ]
  }
 ],
 "metadata": {
  "kernelspec": {
   "display_name": "tf",
   "language": "python",
   "name": "python3"
  },
  "language_info": {
   "codemirror_mode": {
    "name": "ipython",
    "version": 3
   },
   "file_extension": ".py",
   "mimetype": "text/x-python",
   "name": "python",
   "nbconvert_exporter": "python",
   "pygments_lexer": "ipython3",
   "version": "3.8.8"
  },
  "orig_nbformat": 4,
  "vscode": {
   "interpreter": {
    "hash": "538f5f967f87362315cf4e136439b79a8ca12bafeca7a97f49475d16467430fa"
   }
  }
 },
 "nbformat": 4,
 "nbformat_minor": 2
}
